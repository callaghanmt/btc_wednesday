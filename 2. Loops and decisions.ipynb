{
 "metadata": {
  "name": "",
  "signature": "sha256:c6bdf0f7fd04bc0e16f9031f22b22f82d19a0153d69166d8cac623d87e938e5c"
 },
 "nbformat": 3,
 "nbformat_minor": 0,
 "worksheets": [
  {
   "cells": [
    {
     "cell_type": "heading",
     "level": 3,
     "metadata": {},
     "source": [
      "a. Loops"
     ]
    },
    {
     "cell_type": "markdown",
     "metadata": {},
     "source": [
      "Objectives:\n",
      "* Explain what a loop does\n",
      "* Correctly write loops to perform simple calculations\n",
      "* Trace changes to a loop variable as the loop runs\n",
      "* Trace changes to other variables in the loop as the loop executes"
     ]
    },
    {
     "cell_type": "heading",
     "level": 4,
     "metadata": {},
     "source": [
      "Challenges a:"
     ]
    },
    {
     "cell_type": "markdown",
     "metadata": {},
     "source": [
      "(i) Python has a built-in function called range that creates a list of numbers: range(3) produces [0, 1, 2], range(2, 5) produces [2, 3, 4]. Using range, write a function that prints the $N$ natural numbers:"
     ]
    },
    {
     "cell_type": "raw",
     "metadata": {},
     "source": [
      "print_N(3)\n",
      "1\n",
      "2\n",
      "3"
     ]
    },
    {
     "cell_type": "markdown",
     "metadata": {},
     "source": [
      "(ii) Exponentiation is built into Python:"
     ]
    },
    {
     "cell_type": "raw",
     "metadata": {},
     "source": [
      "print 5**3\n",
      "125"
     ]
    },
    {
     "cell_type": "markdown",
     "metadata": {},
     "source": [
      "It also has a function called pow that calculates the same value. Write a function called expo that uses a loop to calculate the same result."
     ]
    },
    {
     "cell_type": "markdown",
     "metadata": {},
     "source": [
      "(iii) Write a function called rev that takes a string as input, and produces a new string with the characters in reverse order:"
     ]
    },
    {
     "cell_type": "raw",
     "metadata": {},
     "source": [
      "print rev('Newton')\n",
      "notweN"
     ]
    },
    {
     "cell_type": "heading",
     "level": 3,
     "metadata": {},
     "source": [
      "b. Making decisions"
     ]
    },
    {
     "cell_type": "markdown",
     "metadata": {},
     "source": [
      "Objectives:\n",
      "* Create a simple \"image\" made out of colored blocks.\n",
      "* Explain how the RGB model represents colors.\n",
      "* Explain the similarities and differences between tuples and lists.\n",
      "* Write conditional statements including if, elif, and else branches.\n",
      "* Correctly evaluate expressions containing and and or.\n",
      "* Correctly write and interpret code containing nested loops and conditionals.\n"
     ]
    },
    {
     "cell_type": "heading",
     "level": 4,
     "metadata": {},
     "source": [
      "Image Grids"
     ]
    },
    {
     "cell_type": "markdown",
     "metadata": {},
     "source": [
      "Challenge:\n",
      "    \n",
      "Fill in the ________ in the code below to create a bar that changes colour from dark blue to black"
     ]
    },
    {
     "cell_type": "raw",
     "metadata": {},
     "source": [
      "bar = ImageGrid(10, 1)\n",
      "for x in range(10):\n",
      "    bar[x, 0] = (0, 0, ____)\n",
      "bar.show()"
     ]
    },
    {
     "cell_type": "heading",
     "level": 3,
     "metadata": {},
     "source": [
      "c. Conditionals"
     ]
    },
    {
     "cell_type": "heading",
     "level": 4,
     "metadata": {},
     "source": [
      "Challenges c:"
     ]
    },
    {
     "cell_type": "markdown",
     "metadata": {},
     "source": [
      "(i) True and False aren't the only values in Python that are true and false. In fact, any value can be used in an if or elif. After reading and running the code below, explain what the rule is for which values are considered true and which are considered false. (Note that if the body of a conditional is a single statement, we can write it on the same line as the if.)"
     ]
    },
    {
     "cell_type": "raw",
     "metadata": {},
     "source": [
      "if '': print 'empty string is true'\n",
      "if 'word': print 'word is true'\n",
      "if []: print 'empty list is true'\n",
      "if [1, 2, 3]: print 'non-empty list is true'\n",
      "if 0: print 'zero is true'\n",
      "if 1: print 'one is true'"
     ]
    },
    {
     "cell_type": "markdown",
     "metadata": {},
     "source": [
      "(ii) Write a function called near that returns True if its first parameter is within 10% of its second and False otherwise. Compare your implementation with your partner's: do you return the same answer for all possible pairs of numbers?"
     ]
    },
    {
     "cell_type": "code",
     "collapsed": false,
     "input": [],
     "language": "python",
     "metadata": {},
     "outputs": []
    }
   ],
   "metadata": {}
  }
 ]
}