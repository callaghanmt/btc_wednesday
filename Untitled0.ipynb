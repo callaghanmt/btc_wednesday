{
 "metadata": {
  "name": "",
  "signature": "sha256:6f4c1484555aa9d80e84f3f4a1dacd996879815f06163868008dd94ba42c2fa7"
 },
 "nbformat": 3,
 "nbformat_minor": 0,
 "worksheets": [
  {
   "cells": [
    {
     "cell_type": "code",
     "collapsed": false,
     "input": [
      "from ipythonblocks import ImageGrid"
     ],
     "language": "python",
     "metadata": {},
     "outputs": [],
     "prompt_number": 3
    },
    {
     "cell_type": "code",
     "collapsed": false,
     "input": [
      "pwd"
     ],
     "language": "python",
     "metadata": {},
     "outputs": [
      {
       "metadata": {},
       "output_type": "pyout",
       "prompt_number": 4,
       "text": [
        "u'/Users/martin/beyond_code/btc_wednesday'"
       ]
      }
     ],
     "prompt_number": 4
    },
    {
     "cell_type": "code",
     "collapsed": false,
     "input": [
      "ls"
     ],
     "language": "python",
     "metadata": {},
     "outputs": [
      {
       "output_type": "stream",
       "stream": "stdout",
       "text": [
        "1. Introduction to Python.ipynb    data-08.csv\r\n",
        "2. Loops and decisions.ipynb       data-09.csv\r\n",
        "README.md                          data-10.csv\r\n",
        "Untitled0.ipynb                    data-11.csv\r\n",
        "data-01.csv                        data-12.csv\r\n",
        "data-02.csv                        easygui.py\r\n",
        "data-03.csv                        easygui.pyc\r\n",
        "data-04.csv                        ipythonblocks.py\r\n",
        "data-05.csv                        ipythonblocks.pyc\r\n",
        "data-06.csv                        python-logo.png\r\n",
        "data-07.csv                        python-operations-across-axes.svg\r\n"
       ]
      }
     ],
     "prompt_number": 5
    },
    {
     "cell_type": "code",
     "collapsed": false,
     "input": [],
     "language": "python",
     "metadata": {},
     "outputs": []
    }
   ],
   "metadata": {}
  }
 ]
}