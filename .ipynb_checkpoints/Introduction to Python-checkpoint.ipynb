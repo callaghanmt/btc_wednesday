{
 "metadata": {
  "name": "",
  "signature": "sha256:dd772c2270c02a2ef89ad8f3ad52b4ab2842b655b7f38bc919b4466c5a668067"
 },
 "nbformat": 3,
 "nbformat_minor": 0,
 "worksheets": [
  {
   "cells": [
    {
     "cell_type": "heading",
     "level": 1,
     "metadata": {},
     "source": [
      "Introduction to Python"
     ]
    },
    {
     "cell_type": "markdown",
     "metadata": {},
     "source": [
      "We're using \"Ipython Notebook\". The cells can contain text, code or you can even link to an image.\n",
      "Use the [Code] drop down to change the function of the cells.\n",
      "Choose the \"MarkDown\" option for text or Markdown Code (for hyperlinks etc.)"
     ]
    },
    {
     "cell_type": "markdown",
     "metadata": {},
     "source": [
      "<img src=\"python-logo.png\">"
     ]
    },
    {
     "cell_type": "markdown",
     "metadata": {},
     "source": [
      "If you've installed everything correctly, then entering python code into a cell and clicking the \"Play\" button [>] should execute the result and display the result in your browser."
     ]
    },
    {
     "cell_type": "code",
     "collapsed": false,
     "input": [
      "print \"Hello and welcome\""
     ],
     "language": "python",
     "metadata": {},
     "outputs": [
      {
       "output_type": "stream",
       "stream": "stdout",
       "text": [
        "Hello and welcome\n"
       ]
      }
     ],
     "prompt_number": 2
    },
    {
     "cell_type": "markdown",
     "metadata": {},
     "source": [
      "On with the show..."
     ]
    },
    {
     "cell_type": "heading",
     "level": 3,
     "metadata": {},
     "source": [
      "Analyzing Weather Data"
     ]
    },
    {
     "cell_type": "markdown",
     "metadata": {},
     "source": [
      "Let us assume we are studying data from a weather station, and need to analyze the first dozen data sets. The data sets are stored in comma-separated values (CSV) format: each row holds data for a single temperature sensor, and the columns represent successive hours. The first few rows of our first file look like this:"
     ]
    },
    {
     "cell_type": "raw",
     "metadata": {},
     "source": [
      "0,0,1,3,1,2,4,7,8,3,3,3,10,5,7,4,7,7,12,18,6,13,11,11,7,7,4,6,8,8,4,4,5,7,3,4,2,3,0,0\n",
      "0,1,2,1,2,1,3,2,2,6,10,11,5,9,4,4,7,16,8,6,18,4,12,5,12,7,11,5,11,3,3,5,4,4,5,5,1,1,0,1\n",
      "0,1,1,3,3,2,6,2,5,9,5,7,4,5,4,15,5,11,9,10,19,14,12,17,7,12,11,7,4,2,10,5,4,2,2,3,2,2,1,1\n",
      "0,0,2,0,4,2,2,1,6,7,10,7,9,13,8,8,15,10,10,7,17,4,4,7,6,15,6,4,9,11,3,5,6,3,3,4,2,3,2,1\n",
      "0,1,1,3,3,1,3,5,2,4,4,7,6,5,3,10,8,10,6,17,9,14,9,7,13,9,12,6,7,7,9,6,3,2,2,4,2,0,1,1"
     ]
    },
    {
     "cell_type": "markdown",
     "metadata": {},
     "source": [
      "We want to:\n",
      "\n",
      "* load that data into memory,\n",
      "* calculate the average temperature per hour across all sensors, and\n",
      "* plot the result.\n",
      "To do all that, we'll have to learn a little bit about programming.\n",
      "\n"
     ]
    },
    {
     "cell_type": "heading",
     "level": 4,
     "metadata": {},
     "source": [
      "Challenges 1:"
     ]
    },
    {
     "cell_type": "markdown",
     "metadata": {},
     "source": [
      "Draw diagrams showing what variables refer to what values after each statement in the following program:"
     ]
    },
    {
     "cell_type": "raw",
     "metadata": {},
     "source": [
      "mass = 47.5\n",
      "age = 122\n",
      "mass = mass * 2.0\n",
      "age = age - 20"
     ]
    },
    {
     "cell_type": "markdown",
     "metadata": {},
     "source": [
      "What does the following program print out?"
     ]
    },
    {
     "cell_type": "raw",
     "metadata": {},
     "source": [
      "first, second = 'Grace', 'Hopper'\n",
      "third, fourth = second, first\n",
      "print third, fourth"
     ]
    },
    {
     "cell_type": "heading",
     "level": 3,
     "metadata": {},
     "source": [
      "Manipulating Data"
     ]
    },
    {
     "cell_type": "heading",
     "level": 4,
     "metadata": {},
     "source": [
      "Challenges 2:"
     ]
    },
    {
     "cell_type": "markdown",
     "metadata": {},
     "source": [
      "A subsection of an array is called a slice. We can take slices of character strings as well:"
     ]
    },
    {
     "cell_type": "raw",
     "metadata": {},
     "source": [
      "element = 'oxygen'\n",
      "print 'first three characters:', element[0:3]\n",
      "print 'last three characters:', element[3:6]"
     ]
    },
    {
     "cell_type": "markdown",
     "metadata": {},
     "source": [
      "* What is the value of element[:4]? What about element[4:]? Or element[:]?\n",
      "\n",
      "\n",
      "* What is element[-1]? What is element[-2]? Given those answers, explain what element[1:-1] does.\n",
      "\n",
      "\n",
      "* The expression element[3:3] produces an empty string, i.e., a string that contains no characters. If data holds our array of data, what does data[3:3, 4:4] produce? What about data[3:3, :]?"
     ]
    },
    {
     "cell_type": "heading",
     "level": 3,
     "metadata": {},
     "source": [
      "Plotting"
     ]
    },
    {
     "cell_type": "heading",
     "level": 4,
     "metadata": {},
     "source": [
      "Challenges 3:"
     ]
    },
    {
     "cell_type": "markdown",
     "metadata": {},
     "source": [
      "* Why do all of our plots stop just short of the upper end of our graph? Why are the vertical lines in our plot of the minimum inflammation per day not perfectly vertical?\n",
      "\n",
      "* Create a plot showing the standard deviation of the data for each day across all sensors."
     ]
    },
    {
     "cell_type": "heading",
     "level": 3,
     "metadata": {},
     "source": [
      "Wrapping up: using aliases"
     ]
    },
    {
     "cell_type": "heading",
     "level": 4,
     "metadata": {},
     "source": [
      "Challenges 4:"
     ]
    },
    {
     "cell_type": "markdown",
     "metadata": {},
     "source": [
      "Modify the last program to display the three plots on top of one another instead of side-by-side"
     ]
    },
    {
     "cell_type": "code",
     "collapsed": false,
     "input": [],
     "language": "python",
     "metadata": {},
     "outputs": []
    }
   ],
   "metadata": {}
  }
 ]
}