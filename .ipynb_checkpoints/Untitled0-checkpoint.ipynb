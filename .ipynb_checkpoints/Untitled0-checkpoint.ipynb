{
 "metadata": {
  "name": "",
  "signature": "sha256:e7686f3f9ae062b9ec68937d31e9661d7b9c29cdc1b79e8ff2a4a948614f5c4d"
 },
 "nbformat": 3,
 "nbformat_minor": 0,
 "worksheets": []
}