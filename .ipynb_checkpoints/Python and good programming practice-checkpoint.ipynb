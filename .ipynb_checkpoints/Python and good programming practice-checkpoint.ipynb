{
 "metadata": {
  "name": "",
  "signature": "sha256:878af91a3576c444587d483ef4029450d6cafce314566f9e4894112e52fdc2ed"
 },
 "nbformat": 3,
 "nbformat_minor": 0,
 "worksheets": [
  {
   "cells": [
    {
     "cell_type": "heading",
     "level": 2,
     "metadata": {},
     "source": [
      "Python and Good programming practice"
     ]
    },
    {
     "cell_type": "heading",
     "level": 3,
     "metadata": {},
     "source": [
      "RECAP on Functions"
     ]
    },
    {
     "cell_type": "heading",
     "level": 3,
     "metadata": {},
     "source": [
      "More on LISTS"
     ]
    },
    {
     "cell_type": "markdown",
     "metadata": {},
     "source": [
      "####Challenges 2:\n",
      "\n",
      "<b>Ordered Numbers</b>\n",
      "\n",
      "Make a list of 5 numbers, in a random order.\n",
      "You are going to print out the list in a number of different orders.\n",
      "Each time you print the list, use a for loop rather than printing the raw list.\n",
      "Print a message each time telling us what order we should see the list in.\n",
      "Print the numbers in the original order.\n",
      "Print the numbers in increasing order.\n",
      "Print the numbers in the original order.\n",
      "Print the numbers in decreasing order.\n",
      "Print the numbers in their original order.\n",
      "Print the numbers in the reverse order from how they started.\n",
      "Print the numbers in the original order.\n",
      "Permanently sort the numbers in increasing order, and then print them out.\n",
      "Permanently sort the numbers in descreasing order, and then print them out.\n",
      "\n",
      "<b>Famous Scientists</b>\n",
      "\n",
      "Make a list that includes the names of four famous Scientists.\n",
      "Remove each person from the list, one at a time, using each of the four methods we have just seen:\n",
      "Pop the last item from the list, and pop any item except the last item.\n",
      "Remove one item by its position, and one item by its value.\n",
      "Print out a message that there is no-one left in your list, and print your list to prove that it is empty.\n"
     ]
    },
    {
     "cell_type": "markdown",
     "metadata": {},
     "source": [
      "Dealing with text and strings in Python"
     ]
    },
    {
     "cell_type": "heading",
     "level": 4,
     "metadata": {},
     "source": [
      "Challenges 3:"
     ]
    },
    {
     "cell_type": "markdown",
     "metadata": {},
     "source": [
      "<b>Someone Said</b>\n",
      "\n",
      "Find a quote that you like. Store the quote in a variable, with an appropriate introduction such as \"Ken Thompson once said, 'One of my most productive days was throwing away 1000 lines of code'\". Print the quote.\n",
      "\n",
      "<b>First Name Cases</b>\n",
      "\n",
      "Store your first name, in lowercase, in a variable.\n",
      "Using that one variable, print your name in lowercase, Titlecase, and UPPERCASE.\n",
      "\n",
      "<b>Full Name</b>\n",
      "\n",
      "Store your first name and last name in separate variables, and then combine them to print out your full name.\n",
      "About This Person\n",
      "\n",
      "<b>Name Strip</b>\n",
      "\n",
      "Store your first name in a variable, but include at least two kinds of whitespace on each side of your name.\n",
      "Print your name as it is stored.\n",
      "Print your name with whitespace stripped from the left side, then from the right side, then from both sides."
     ]
    },
    {
     "cell_type": "code",
     "collapsed": false,
     "input": [],
     "language": "python",
     "metadata": {},
     "outputs": []
    }
   ],
   "metadata": {}
  }
 ]
}